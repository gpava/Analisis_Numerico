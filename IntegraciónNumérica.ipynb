{
  "cells": [
    {
      "cell_type": "markdown",
      "metadata": {
        "id": "view-in-github",
        "colab_type": "text"
      },
      "source": [
        "<a href=\"https://colab.research.google.com/github/gpava/Analisis_Numerico/blob/main/Integraci%C3%B3nNum%C3%A9rica.ipynb\" target=\"_parent\"><img src=\"https://colab.research.google.com/assets/colab-badge.svg\" alt=\"Open In Colab\"/></a>"
      ]
    },
    {
      "cell_type": "markdown",
      "metadata": {
        "id": "t7zAdGma-NDL"
      },
      "source": [
        "##Regla del Trapecio\n"
      ]
    },
    {
      "cell_type": "markdown",
      "metadata": {
        "id": "JCRB_nttC4rE"
      },
      "source": [
        "![trapecio.png](data:image/png;base64,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)"
      ]
    },
    {
      "cell_type": "markdown",
      "metadata": {
        "id": "Ra1Xz9cPC7Zl"
      },
      "source": [
        "$\\textbf{Teorema (Regla del trapecio)}$. Sea $f(x)$ una función acotada sobre el intervalo $[a, b]$. Podemos aproximar\n",
        "\n",
        "$$\\int_a^b f(x) d x$$\n",
        "\n",
        "por medio de\n",
        "$$\n",
        "T_n=\\frac{\\Delta x}{2}\\left(y_0+2 y_1+2 y_2+\\cdots+2 y_{n-1}+y_n\\right) \\text\n",
        "{, }\n",
        "$$\n",
        "donde $P=\\left\\{a=x_0, x_1, \\ldots, x_n=b\\right\\}$ es una partición del intervalo $[a, b]$ en $n$ subintervalos iguales, cada uno de longitud\n",
        "$$\\Delta x=\\frac{b-a}{n}$$ y donde $y_k=f\\left(x_k\\right)$. Para $k=0,1,2,3,4,\\cdots ,n$."
      ]
    },
    {
      "cell_type": "markdown",
      "metadata": {
        "id": "diSorVaHwiKg"
      },
      "source": [
        "La aproximación por trapecio tambien se puede escribir como:\n",
        "\n",
        "$$T_n = \\frac{\\Delta x}{2}\\left(f(x_0)+f(x_n)+2\\sum_{k=1}^{n-1}f(x_k)\\right)=\\frac{\\Delta x}{2}\\left(f(x_0)+f(x_n)\\right)+\\Delta x \\sum_{k=1}^{n-1}f(x_k)$$\n",
        "\n",
        "con $x_k=a+kΔx$"
      ]
    },
    {
      "cell_type": "code",
      "execution_count": 1,
      "metadata": {
        "id": "8Zk6qrm5-GLU"
      },
      "outputs": [],
      "source": [
        "import math\n",
        "from scipy.integrate import quad"
      ]
    },
    {
      "cell_type": "code",
      "execution_count": 2,
      "metadata": {
        "id": "XSRBr69WJW5e"
      },
      "outputs": [],
      "source": [
        "def f(x):\n",
        "    return x**2 # Define la función que quieres integrar aquí"
      ]
    },
    {
      "cell_type": "code",
      "execution_count": 3,
      "metadata": {
        "id": "jnweA3J9zfd4",
        "colab": {
          "base_uri": "https://localhost:8080/"
        },
        "outputId": "03833389-690f-4297-ce36-484797c3bb0c"
      },
      "outputs": [
        {
          "output_type": "stream",
          "name": "stdout",
          "text": [
            "Aproximación de la integral por regla del trapecio: 0.3125\n"
          ]
        }
      ],
      "source": [
        "def trapecio(a, b, n):\n",
        "    delta_x = (b - a) / n\n",
        "    sum_area = (f(a) + f(b)) / 2\n",
        "    for i in range(1, n):\n",
        "        sum_area = sum_area + f((a + b) / 2)\n",
        "    return delta_x * sum_area\n",
        "\n",
        "# Definir los extremos del intervalo o límites de integración y el número de subintervalos\n",
        "# Ojo con las funciones y los limites de integracion para no tener divisiones por cero\n",
        "a = 0\n",
        "b = 1\n",
        "n = 4\n",
        "\n",
        "Taprox = trapecio(a, b, n)\n",
        "print(\"Aproximación de la integral por regla del trapecio:\", Taprox)"
      ]
    },
    {
      "cell_type": "markdown",
      "metadata": {
        "id": "2UZOnEfIEYXA"
      },
      "source": [
        "##¿Cuál es el valor real?\n",
        "\n",
        "Por ejemplo para la función $f(x)=x^2$ es muy sencillo y sabemos que el valor real es $\\frac{1}{3}$"
      ]
    },
    {
      "cell_type": "code",
      "execution_count": 4,
      "metadata": {
        "colab": {
          "base_uri": "https://localhost:8080/"
        },
        "id": "MTJQCB8tEs6Z",
        "outputId": "c82ddf99-4be6-448d-d472-572729e0b734"
      },
      "outputs": [
        {
          "output_type": "execute_result",
          "data": {
            "text/plain": [
              "(0.33333333333333337, 3.700743415417189e-15)"
            ]
          },
          "metadata": {},
          "execution_count": 4
        }
      ],
      "source": [
        "I = quad(f, 0, 1)\n",
        "valorexacto=I[0]\n",
        "I"
      ]
    },
    {
      "cell_type": "code",
      "execution_count": 5,
      "metadata": {
        "colab": {
          "base_uri": "https://localhost:8080/"
        },
        "id": "JGSFzMfvKZUH",
        "outputId": "9188ddd3-bffb-49c3-a058-f768da5b0cc5"
      },
      "outputs": [
        {
          "output_type": "execute_result",
          "data": {
            "text/plain": [
              "0.33333333333333337"
            ]
          },
          "metadata": {},
          "execution_count": 5
        }
      ],
      "source": [
        "valorexacto"
      ]
    },
    {
      "cell_type": "code",
      "execution_count": 6,
      "metadata": {
        "colab": {
          "base_uri": "https://localhost:8080/"
        },
        "id": "JWdFdReLK-41",
        "outputId": "cb3fb0b4-3b32-410e-b4f5-f7a2205a0079"
      },
      "outputs": [
        {
          "output_type": "stream",
          "name": "stdout",
          "text": [
            "error absoluto:  0.02083333333333337\n",
            "Valor real de la integral: 0.33333333333333337\n",
            "Error relativo trapecio: 0.0625\n"
          ]
        }
      ],
      "source": [
        "error_relativo = abs(valorexacto - Taprox) / abs(valorexacto)\n",
        "error_abso= abs(valorexacto - Taprox)\n",
        "print(\"error absoluto: \", error_abso)\n",
        "print(\"Valor real de la integral:\", valorexacto)\n",
        "print(\"Error relativo trapecio:\", round(error_relativo,7))"
      ]
    },
    {
      "cell_type": "markdown",
      "metadata": {
        "id": "MTRtuzC8d41q"
      },
      "source": [
        "##Regla de Simpson"
      ]
    },
    {
      "cell_type": "markdown",
      "metadata": {
        "id": "TyzrdF7DegTJ"
      },
      "source": [
        "![simpson.png](data:image/png;base64,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)"
      ]
    },
    {
      "cell_type": "markdown",
      "metadata": {
        "id": "i6L0KNsHe6b0"
      },
      "source": [
        "$\\textbf{Teorema (Regla de Simpson)}$. Sea $f(x)$ una función acotada sobre el intervalo $[a, b]$. Podemos aproximar\n",
        "\n",
        "$$\\int_a^b f(x) d x$$\n",
        "\n",
        "por medio de\n",
        "$$\n",
        "S=\\frac{\\Delta x}{3}\\left(y_0+ 4y_1+2 y_2+ 4y_3 +2y_4 +\\cdots+2y_{n-2}+4 y_{n-1}+y_n\\right) \\text\n",
        "{, }\n",
        "$$\n",
        "donde $n$ es par, $P=\\left\\{a=x_0, x_1, \\ldots, x_n=b\\right\\}$ es una partición del intervalo $[a, b]$ en $n$ subintervalos iguales, cada uno de longitud\n",
        "$$\\Delta x=\\frac{b-a}{n}$$ y donde $y_k=f\\left(x_k\\right)$. Para $k=0,1,2,3,4,\\cdots ,n$."
      ]
    },
    {
      "cell_type": "markdown",
      "metadata": {
        "id": "QlSiphRIpRf9"
      },
      "source": [
        "Ahora si vemos la fórmula anterior se tiene que los puntos $y_{2k-1}$ son los impares dentro de cada par de subintervalos por ejemplos los puntos $y_3,y_5,\\cdots$ y los puntos $y_{2k}$ son los puntos pares por ejemplo $y_2,y_4,⋯$ dentro de cada par de subintervalos."
      ]
    },
    {
      "cell_type": "markdown",
      "metadata": {
        "id": "-CKeX5SUCdGK"
      },
      "source": [
        "La aproximación por simpson tambien se puede escribir como:\n",
        "\n",
        "$$S = \\frac{\\Delta x}{3}\\left(f(x_0)+f(x_n)+4\\sum_{k=1}^{n/2}f(x_{2k-1})+2\\sum_{k=1}^{\\frac{n}{2}-1}f(x_{2k})\\right)$$\n",
        "\n",
        "con $x_k=a+kΔx$"
      ]
    },
    {
      "cell_type": "markdown",
      "metadata": {
        "id": "QiRdaZ7RCRdg"
      },
      "source": [
        "En la fórmula de la regla de Simpson, la suma se divide en dos partes: una suma que involucra los puntos impares y otra suma que involucra los puntos pares. La suma que involucra los puntos impares tiene un factor de 4 en la fórmula, mientras que la suma que involucra los puntos pares tiene un factor de 2."
      ]
    },
    {
      "cell_type": "code",
      "execution_count": 7,
      "metadata": {
        "colab": {
          "base_uri": "https://localhost:8080/"
        },
        "id": "HY4vZ57P3rNS",
        "outputId": "1ca77edd-3e28-4df4-f891-245775c4044d"
      },
      "outputs": [
        {
          "output_type": "stream",
          "name": "stdout",
          "text": [
            "1\n",
            "3\n",
            "5\n",
            "7\n",
            "9\n"
          ]
        }
      ],
      "source": [
        "for i in range(1, 10, 2):\n",
        "  print(i)"
      ]
    },
    {
      "cell_type": "code",
      "execution_count": 8,
      "metadata": {
        "colab": {
          "base_uri": "https://localhost:8080/"
        },
        "id": "dbK3y4QWfy4m",
        "outputId": "3bd7ee65-f4e9-4685-b43d-02d10e010be2"
      },
      "outputs": [
        {
          "output_type": "stream",
          "name": "stdout",
          "text": [
            "Aproximación de la integral: 0.3333333333333333\n"
          ]
        }
      ],
      "source": [
        "def simpson(a, b, n):\n",
        "  delta_x = (b - a) / n #Tamaño de paso delta\n",
        "  suma_par = 0 #Variable que me almacena la suma de los puntos pares\n",
        "  suma_impar = 0 #Variable que me almacena la suma de los puntos impares\n",
        "  for i in range(1, n, 2):\n",
        "    suma_impar = suma_impar + f(a + i * delta_x)\n",
        "  for i in range(2, n-1, 2):\n",
        "    suma_par = suma_par + f(a + i * delta_x)\n",
        "  aprox = (delta_x / 3) * (f(a) + 2 * suma_par + 4* suma_impar + f(b))\n",
        "  return aprox\n",
        "\n",
        "# Definir los extremos del intervalo y el número de subintervalos\n",
        "a = 0\n",
        "b = 1\n",
        "n = 4\n",
        "\n",
        "S = simpson(a, b, n)\n",
        "print(\"Aproximación de la integral:\", S)"
      ]
    },
    {
      "cell_type": "code",
      "execution_count": 9,
      "metadata": {
        "id": "Z7IeU7dT4NcK",
        "colab": {
          "base_uri": "https://localhost:8080/"
        },
        "outputId": "1dd75feb-5f52-41a5-cee4-030812e764d2"
      },
      "outputs": [
        {
          "output_type": "stream",
          "name": "stdout",
          "text": [
            "valor absoluto:  5.551115123125783e-17\n",
            "Valor real de la integral: 0.33333333333333337\n",
            "Error relativo Simpson: 0.0\n"
          ]
        }
      ],
      "source": [
        "error_relativo = abs(valorexacto - S) / abs(valorexacto)\n",
        "error_abs= abs(valorexacto - S)\n",
        "print(\"valor absoluto: \", error_abs)\n",
        "print(\"Valor real de la integral:\", valorexacto)\n",
        "print(\"Error relativo Simpson:\", round(error_relativo,7))"
      ]
    }
  ],
  "metadata": {
    "colab": {
      "provenance": [],
      "include_colab_link": true
    },
    "kernelspec": {
      "display_name": "Python 3",
      "name": "python3"
    },
    "language_info": {
      "name": "python"
    }
  },
  "nbformat": 4,
  "nbformat_minor": 0
}