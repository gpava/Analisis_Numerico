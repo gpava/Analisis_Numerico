{
  "nbformat": 4,
  "nbformat_minor": 0,
  "metadata": {
    "colab": {
      "provenance": [],
      "authorship_tag": "ABX9TyOj0rtt99jeOQJBGVpbQC5i"
    },
    "kernelspec": {
      "name": "python3",
      "display_name": "Python 3"
    },
    "language_info": {
      "name": "python"
    }
  },
  "cells": [
    {
      "cell_type": "code",
      "execution_count": null,
      "metadata": {
        "id": "lpZwH3uakvyP"
      },
      "outputs": [],
      "source": [
        "import numpy as np\n",
        "import matplotlib.pyplot as plt"
      ]
    },
    {
      "cell_type": "markdown",
      "source": [
        "###Uso del método iterativo de Gauss-Seidel para aproximar la solución\n",
        "$$\n",
        "x=\\left[\\begin{array}{rrr}\n",
        "x_1 & x_2 & x_3\n",
        "\\end{array}\\right]^T\n",
        "$$\n",
        "###al sistema lineal\n",
        "$$\n",
        "AX=B\n",
        "$$\n",
        "###con una tolerancia de $10^{-2}$ y un máximo de 300 iteraciones.\n",
        "$$\n",
        "\\begin{aligned}\n",
        "x_1- x_3 & = & 0.2 \\\\\n",
        "-\\frac{1}{2} x_1+x_2-\\frac{1}{4} x_3 & = & -1.425 \\\\\n",
        "x_1-\\frac{1}{2} x_2 +x_3 & = & 2\n",
        "\\end{aligned}\n",
        "$$\n",
        "Donde se tienen las matrices\n",
        "$$\n",
        "A=\\left[\\begin{array}{rrr}\n",
        "1 & 0 & -1 \\\\\n",
        "-\\frac{1}{2} & 1 & -\\frac{1}{4} \\\\\n",
        "1 & -\\frac{1}{2} & 1\n",
        "\\end{array}\\right]\n",
        "$$\n",
        "y el vector\n",
        "$$\n",
        "B=\\left[\\begin{array}{rrr}\n",
        "0.2 & -1.425 & 2\n",
        "\\end{array}\\right]^T\n",
        "$$\n",
        "\n"
      ],
      "metadata": {
        "id": "QSVGMfgEq9zX"
      }
    },
    {
      "cell_type": "markdown",
      "source": [
        "###Gauss Seidel de la forma\n",
        "\n",
        "$$x_i^{(k+1)}=\\frac{1}{a_{i i}}\\left(b_i-\\sum_{j<i} a_{i j} x_j^{(k+1)}-\\sum_{j>i} a_{i j} x_j^{(k)}\\right)$$"
      ],
      "metadata": {
        "id": "k-hiQOmWlzqC"
      }
    },
    {
      "cell_type": "code",
      "source": [
        "#Matriz A\n",
        "A=np.array([[1,0,-1],\n",
        "            [-0.5,1,-0.25],\n",
        "            [1,-0.5,1]])\n",
        "#vector B\n",
        "b=np.array([0.2,-1.425,2])\n",
        "solucion = np.linalg.inv(A).dot(b)"
      ],
      "metadata": {
        "id": "xXXa_fNJptnK"
      },
      "execution_count": null,
      "outputs": []
    },
    {
      "cell_type": "code",
      "source": [
        "print(\"La solución exacta del sistema es: \", solucion)"
      ],
      "metadata": {
        "colab": {
          "base_uri": "https://localhost:8080/"
        },
        "id": "PFx1sJ2Is--T",
        "outputId": "128544a1-fef4-4909-d2f0-536ee4f05517"
      },
      "execution_count": null,
      "outputs": [
        {
          "output_type": "stream",
          "name": "stdout",
          "text": [
            "La solución exacta del sistema es:  [ 0.9 -0.8  0.7]\n"
          ]
        }
      ]
    },
    {
      "cell_type": "markdown",
      "source": [
        "Una matriz $A$ es estrictamente diagonalmente dominante si para todo $i \\in 1, \\ldots, n$,\n",
        "\\begin{equation*}\n",
        "            |a_{ii}| > \\sum_{\\substack{j=1 \\\\ j \\neq i}}^n |a_{ij}|\n",
        "        \\end{equation*}"
      ],
      "metadata": {
        "id": "cC-n4Jb1uRn0"
      }
    },
    {
      "cell_type": "code",
      "source": [
        "def EdiagonalDominante(A):\n",
        "    sum = []\n",
        "    diagonal = []\n",
        "    for i in range(A.shape[0]):\n",
        "        suma = 0\n",
        "        for j in range(A.shape[1]):\n",
        "            if i != j:\n",
        "                suma += abs(A[i,j])\n",
        "            else:\n",
        "                diagonal.append(A[i,j])\n",
        "        sum.append(suma)\n",
        "    lista = []\n",
        "    for i in range(len(diagonal)):\n",
        "        if diagonal[i] <= sum[i]:\n",
        "            lista.append(0)\n",
        "        else:\n",
        "            lista.append(1)\n",
        "    if 0 in lista:\n",
        "      print(\"No es estrictamente diagonal dominante\")\n",
        "    else:\n",
        "      print(\"Es estrictamente diagonal dominante\")\n",
        "\n",
        "EdiagonalDominante(A)"
      ],
      "metadata": {
        "colab": {
          "base_uri": "https://localhost:8080/"
        },
        "id": "m5HTBCf4ugUP",
        "outputId": "7a3f4000-5123-44e6-855a-45ab077ee671"
      },
      "execution_count": null,
      "outputs": [
        {
          "output_type": "stream",
          "name": "stdout",
          "text": [
            "No es estrictamente diagonal dominante\n"
          ]
        }
      ]
    },
    {
      "cell_type": "markdown",
      "source": [
        "###Punto a)\n",
        "La matriz\n",
        "$$\n",
        "A=\\left[\\begin{array}{rrr}\n",
        "1 & 0 & -1 \\\\\n",
        "-\\frac{1}{2} & 1 & -\\frac{1}{4} \\\\\n",
        "1 & -\\frac{1}{2} & 1\n",
        "\\end{array}\\right]\n",
        "$$\n",
        "no es estrictamente diagonal dominante"
      ],
      "metadata": {
        "id": "ETubFmpcxbCj"
      }
    },
    {
      "cell_type": "markdown",
      "source": [
        "Tenemos que la matriz de Gauss - Seidel es de la forma\n",
        "\n",
        "$$M_{GS} = I-Q^{-1}A,\\quad \\text{con} \\quad C_L\\text{ es matriz inferior} \\quad Q=D+C_L$$"
      ],
      "metadata": {
        "id": "7Bz5PoA1ybaK"
      }
    },
    {
      "cell_type": "markdown",
      "source": [
        "### Punto b)\n",
        "Entonces el radio espectral es\n",
        "\n",
        "\\begin{equation*}\n",
        "    \\rho(M_{GS})= \\max_{\\lambda \\in σ(A)} |λ| = 5/8 = 0.625\n",
        "\\end{equation*}\n",
        "\n",
        "que a su vez es menor a 1 y se concluye en efecto que Gauss-Seidel converge."
      ],
      "metadata": {
        "id": "WQhOcXDtE3-b"
      }
    },
    {
      "cell_type": "code",
      "source": [
        "def radioEspectralGS(A):\n",
        "    Q = np.zeros(A.shape)\n",
        "    for i in range(A.shape[0]):\n",
        "        for j in range(A.shape[1]):\n",
        "            if j <= i:\n",
        "                Q[i,j] = A[i,j]\n",
        "    Mgs = np.identity(A.shape[0]) - np.linalg.inv(Q)@A\n",
        "    radio_espectral = max(abs(np.linalg.eigvals(Mgs)))\n",
        "    print(\"El radio espectral de Mgs es:\", radio_espectral)\n",
        "\n",
        "radioEspectralGS(A)"
      ],
      "metadata": {
        "colab": {
          "base_uri": "https://localhost:8080/"
        },
        "id": "_Dgj2tVwEHpg",
        "outputId": "171d6030-d6ed-48a4-e918-8abd112567fa"
      },
      "execution_count": null,
      "outputs": [
        {
          "output_type": "stream",
          "name": "stdout",
          "text": [
            "El radio espectral de Mgs es: 0.625\n"
          ]
        }
      ]
    },
    {
      "cell_type": "code",
      "source": [
        "def gauss_seidel(A, b, x0, tolerancia, itermax):\n",
        "    n = len(A)\n",
        "    x = x0.copy()\n",
        "\n",
        "    for i in range(itermax):\n",
        "        x_actualizado = np.zeros(n)\n",
        "        for j in range(n):\n",
        "            suma1 = np.dot(A[j, :j], x_actualizado[:j])\n",
        "            suma2 = np.dot(A[j, j + 1:], x[j + 1:])\n",
        "            x_actualizado[j] = (b[j] - suma1 - suma2) / A[j, j]\n",
        "        if np.allclose(x, x_actualizado, tolerancia):\n",
        "            return x_actualizado\n",
        "        x = x_actualizado\n",
        "    return x"
      ],
      "metadata": {
        "id": "zSopBt0NlhGI"
      },
      "execution_count": null,
      "outputs": []
    },
    {
      "cell_type": "code",
      "source": [
        "x0 = np.array([0, 0 , 0])\n",
        "tolerancia = 0.01\n",
        "itermax = 300\n",
        "x = gauss_seidel(A, b, x0, tolerancia, itermax)\n",
        "print(\"Solución por Gauss - Seidel\")\n",
        "print(x)"
      ],
      "metadata": {
        "colab": {
          "base_uri": "https://localhost:8080/"
        },
        "id": "Zdz6asPqm5yx",
        "outputId": "5b25b4d1-3387-4b49-eab3-4328b8dc5fff"
      },
      "execution_count": null,
      "outputs": [
        {
          "output_type": "stream",
          "name": "stdout",
          "text": [
            "Solución por Gauss - Seidel\n",
            "[ 0.8975131  -0.80186517  0.70155431]\n"
          ]
        }
      ]
    },
    {
      "cell_type": "markdown",
      "source": [
        "Qué pasa si el sistema se cambia por:\n",
        "$$\n",
        "\\begin{aligned}\n",
        "x_1-2 x_3 & = & 0.2 \\\\\n",
        "-\\frac{1}{2} x_1+x_2-\\frac{1}{4} x_3 & = & -1.425 \\\\\n",
        "x_1-\\frac{1}{2}x_2 +x_3 & = & 2\n",
        "\\end{aligned}\n",
        "$$\n",
        "con matriz\n",
        "$$\n",
        "A=\\left[\\begin{array}{rrr}\n",
        "1 & 0 & -2 \\\\\n",
        "-\\frac{1}{2} & 1 & -\\frac{1}{4} \\\\\n",
        "1 & -\\frac{1}{2} & 1\n",
        "\\end{array}\\right]\n",
        "$$\n",
        "y el vector\n",
        "$$\n",
        "B=\\left[\\begin{array}{rrr}\n",
        "0.2 & -1.425 & 2\n",
        "\\end{array}\\right]^T\n",
        "$$"
      ],
      "metadata": {
        "id": "hmNtVlsUZEju"
      }
    },
    {
      "cell_type": "code",
      "source": [
        "#Matriz A\n",
        "W=np.array([[1,0,-2],\n",
        "            [-0.5,1,-0.25],\n",
        "            [1,-0.5,1]])\n",
        "\n",
        "x0 = np.array([0, 0 , 0])\n",
        "tolerancia = 0.01\n",
        "itermax = 300\n",
        "x = gauss_seidel(W, b, x0, tolerancia, itermax)\n",
        "EdiagonalDominante(W)\n",
        "radioEspectralGS(W)\n",
        "print(\"Solución por Gauss - Seidel\")\n",
        "print(x)"
      ],
      "metadata": {
        "colab": {
          "base_uri": "https://localhost:8080/"
        },
        "id": "LFGHHVhCZgC4",
        "outputId": "7ea3c3b6-d076-40a9-f8b2-2c732dfa5948"
      },
      "execution_count": null,
      "outputs": [
        {
          "output_type": "stream",
          "name": "stdout",
          "text": [
            "No es estrictamente diagonal dominante\n",
            "El radio espectral de Mgs es: 1.375\n",
            "Solución por Gauss - Seidel\n",
            "[ 2.15687283e+41  1.34804552e+41 -1.48285007e+41]\n"
          ]
        }
      ]
    },
    {
      "cell_type": "markdown",
      "source": [
        "Ahora con el metodo de Jacobi\n",
        "La sucesión se construye descomponiendo la matriz del sistema $A$ en la forma siguiente:\n",
        "$$\n",
        "A=D+R\n",
        "$$\n",
        "donde $D$, es una matriz diagonal y $R$, es la suma de una matriz triangular inferior $L$ y una matriz triangular superior $U$, luego $R=L+U$. Partiendo de $A \\mathbf{x}=\\mathbf{b}$, podemos reescribir dicha ecuación como\n",
        "$$\n",
        "D \\mathbf{x}+R \\mathbf{x}=\\mathbf{b}\n",
        "$$\n",
        "Luego,\n",
        "$$\n",
        "\\mathbf{x}=D^{-1}(\\mathbf{b}-R \\mathbf{x})\n",
        "$$\n",
        "Si $a_{i j} \\neq 0$ para cada $i$. Por la regla iterativa, la definición del Método de Jacobi puede ser expresado de la forma:\n",
        "$$\n",
        "\\mathbf{x}^{(k+1)}=D^{-1}\\left(\\mathbf{b}-R \\mathbf{x}^{(k)}\\right)\n",
        "$$\n",
        "donde $k$ es el contador de iteración, Finalmente tenemos:\n",
        "$$\n",
        "x_i^{(k+1)}=\\frac{1}{a_{i i}}\\left(b_i-\\sum_{j \\neq i} a_{i j} x_j^{(k)}\\right), i=1,2,3, \\ldots\n",
        "$$"
      ],
      "metadata": {
        "id": "PemIZWzcpHsQ"
      }
    },
    {
      "cell_type": "code",
      "source": [
        "def jacobi(A,b,x0,itermax, tolerancia):\n",
        "    x = x0.copy()\n",
        "    D = np.zeros(A.shape)\n",
        "\n",
        "    for i in range(len(D)):\n",
        "        D[i,i] = A[i,i]\n",
        "    W = A - D\n",
        "    for i in range(itermax):\n",
        "        x = np.dot(np.linalg.inv(D), b - np.dot(W,x))\n",
        "        if np.allclose(solucion, x, tolerancia):\n",
        "            return x\n",
        "    return x"
      ],
      "metadata": {
        "id": "JLpAr58upbsw"
      },
      "execution_count": null,
      "outputs": []
    },
    {
      "cell_type": "markdown",
      "source": [
        "La matriz de Jacobi es de la forma\n",
        "\\begin{equation*}\n",
        "        M_{J}= I - D^{-1}A\n",
        "\\end{equation*}\n",
        "\n",
        "Entonces el radio espectral es\n",
        "\n",
        "\\begin{equation*}\n",
        "    \\rho(M_{J})= \\max_{\\lambda \\in σ(A)} |λ| = 5/8 = 0.972\n",
        "\\end{equation*}\n",
        "\n",
        "y se concluye que Jacobi converge"
      ],
      "metadata": {
        "id": "_1ljj_-iGk3J"
      }
    },
    {
      "cell_type": "code",
      "source": [
        "def radEspectralJ(A):\n",
        "    D = np.zeros(A.shape)\n",
        "    for i in range(len(D)):\n",
        "        D[i,i] = A[i,i]\n",
        "    MJ = np.identity(A.shape[0]) - np.linalg.inv(D)@A\n",
        "    radio_espectral = max(abs(np.linalg.eigvals(MJ)))\n",
        "    print(\"El radio espectral de Tg es:\", radio_espectral)\n",
        "\n",
        "radEspectralJ(A)"
      ],
      "metadata": {
        "colab": {
          "base_uri": "https://localhost:8080/"
        },
        "id": "zMgzXeB7HHhR",
        "outputId": "6a4119dd-8ad0-4b95-b413-89ba9eceef79"
      },
      "execution_count": null,
      "outputs": [
        {
          "output_type": "stream",
          "name": "stdout",
          "text": [
            "El radio espectral de Tg es: 0.9721052103388309\n"
          ]
        }
      ]
    },
    {
      "cell_type": "code",
      "source": [
        "x0 = np.array([0, 0 , 0])\n",
        "tolerancia = 0.01\n",
        "max_iterations = 300\n",
        "X=jacobi(A,b,x0,itermax, tolerancia)\n",
        "print(\"Solución por Jacobi\")\n",
        "print(X)"
      ],
      "metadata": {
        "colab": {
          "base_uri": "https://localhost:8080/"
        },
        "id": "tM84fuaqqcVB",
        "outputId": "841343cd-c373-4a7f-f6bc-1f3ef635621e"
      },
      "execution_count": null,
      "outputs": [
        {
          "output_type": "stream",
          "name": "stdout",
          "text": [
            "Solución por Jacobi\n",
            "[ 0.89200332 -0.80340885  0.7047798 ]\n"
          ]
        }
      ]
    },
    {
      "cell_type": "markdown",
      "source": [
        "Cambiando la matriz A por\n",
        "\n",
        "$$\n",
        "A=\\left[\\begin{array}{rrr}\n",
        "1 & 0 & -2 \\\\\n",
        "-\\frac{1}{2} & 1 & -\\frac{1}{4} \\\\\n",
        "1 & -\\frac{1}{2} & 1\n",
        "\\end{array}\\right]\n",
        "$$"
      ],
      "metadata": {
        "id": "cu-KFtVEq-ff"
      }
    },
    {
      "cell_type": "code",
      "source": [
        "#Matriz A\n",
        "W=np.array([[1,0,-2],\n",
        "            [-0.5,1,-0.25],\n",
        "            [1,-0.5,1]])\n",
        "\n",
        "x0 = np.array([0, 0 , 0])\n",
        "tolerancia = 0.01\n",
        "itermax = 300\n",
        "radEspectralJ(W)\n",
        "X = jacobi(W,b,x0,itermax, tolerancia)\n",
        "print(\"Solución por Gauss - Seidel\")\n",
        "print(x)"
      ],
      "metadata": {
        "colab": {
          "base_uri": "https://localhost:8080/"
        },
        "id": "4U8XmsCerB4p",
        "outputId": "00c962cf-cd17-4654-996b-0566a0233d0f"
      },
      "execution_count": null,
      "outputs": [
        {
          "output_type": "stream",
          "name": "stdout",
          "text": [
            "El radio espectral de Tg es: 1.3933177928644842\n",
            "Solución por Gauss - Seidel\n",
            "[ 2.15687283e+41  1.34804552e+41 -1.48285007e+41]\n"
          ]
        }
      ]
    }
  ]
}