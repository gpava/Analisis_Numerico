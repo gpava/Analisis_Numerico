{
  "nbformat": 4,
  "nbformat_minor": 0,
  "metadata": {
    "colab": {
      "provenance": []
    },
    "kernelspec": {
      "name": "python3",
      "display_name": "Python 3"
    },
    "language_info": {
      "name": "python"
    }
  },
  "cells": [
    {
      "cell_type": "code",
      "execution_count": null,
      "metadata": {
        "id": "lbVhll_V-y13"
      },
      "outputs": [],
      "source": [
        "import numpy as np\n",
        "import matplotlib.pyplot as plt"
      ]
    },
    {
      "cell_type": "code",
      "source": [
        "def f(x):\n",
        "    return (1+2*x-x**2)*np.exp(x)\n",
        "\n",
        "def sln(x):\n",
        "    return (1-x)*np.exp(x)\n",
        "\n",
        "def diferenciaCentrada(N, a= 0, b= 1):\n",
        "    h = (b-a)/N\n",
        "    t = np.linspace(a, b, N)\n",
        "\n",
        "    #Condiciones iniciales\n",
        "    v0 = 1\n",
        "    vn = 0\n",
        "\n",
        "    fj = f(t)\n",
        "    for i in range(len(fj)):\n",
        "        if i == 0:\n",
        "            fj[0] = (h**2)*fj[i] + v0\n",
        "        else:\n",
        "            fj[i] = (h**2)*fj[i] + vn\n",
        "\n",
        "    A = np.zeros((N, N))\n",
        "\n",
        "    for i in range(N):\n",
        "        A[i,i] = 2 + (h**2)*t[i]\n",
        "    for i in range(N):\n",
        "        for j in range(N):\n",
        "            if j == i + 1:\n",
        "                A[i,j] = -1\n",
        "            elif j == i - 1:\n",
        "                A[i,j] = -1\n",
        "\n",
        "    v = np.dot(np.linalg.inv(A), fj)\n",
        "    return A, v, t, h\n",
        "\n",
        "def errorNormaInfinito(h, orden, a= 0, b= 1):\n",
        "    N = int((b-a)/h)\n",
        "    t = np.linspace(a,b,N)\n",
        "    exacta = sln(t)\n",
        "    A, appr, x, h = diferenciaCentrada(N)\n",
        "    return np.linalg.norm(exacta-appr, ord=orden)\n",
        "\n",
        "N = int(input('Ingrese el tamaño de N = '))\n",
        "A, v, t, h = diferenciaCentrada(N)\n",
        "#Grafica de la solución y la aproximación\n",
        "print(f'Su h = {h}')\n",
        "print(f'El tamaño de la matriz es {A.shape}')\n",
        "orden = input('Escoja el orden de la norma {1,2,inf}: ')\n",
        "\n",
        "if orden == 'inf':\n",
        "    orden = np.inf\n",
        "else:\n",
        "    orden = int(orden)\n",
        "\n",
        "print(f'Error de la aproximación con h = {h} y considerando la norma infinito es {errorNormaInfinito(h, orden)}')\n",
        "plt.plot(t,sln(t), label='Sln. Exacta')\n",
        "plt.plot(t,v, label='Sln. Númerica')\n",
        "plt.legend()\n",
        "plt.show()"
      ],
      "metadata": {
        "colab": {
          "base_uri": "https://localhost:8080/",
          "height": 352
        },
        "id": "__BUgXuT-2Ob",
        "outputId": "9932d04b-c7d2-454f-9efd-bce0f027b297"
      },
      "execution_count": null,
      "outputs": [
        {
          "output_type": "stream",
          "name": "stdout",
          "text": [
            "Ingrese el tamaño de N = 100\n",
            "Su h = 0.01\n",
            "El tamaño de la matriz es (100, 100)\n",
            "Escoja el orden de la norma {1,2,inf}: inf\n",
            "Error de la aproximación con h = 0.01 y considerando la norma infinito es 0.027059880180191218\n"
          ]
        },
        {
          "output_type": "display_data",
          "data": {
            "text/plain": [
              "<Figure size 432x288 with 1 Axes>"
            ],
            "image/png": "[encoded data removed]"
          },
          "metadata": {
            "needs_background": "light"
          }
        }
      ]
    }
  ]
}